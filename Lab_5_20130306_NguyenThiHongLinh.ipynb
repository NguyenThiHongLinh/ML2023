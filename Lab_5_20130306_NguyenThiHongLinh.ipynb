{
  "nbformat": 4,
  "nbformat_minor": 0,
  "metadata": {
    "colab": {
      "provenance": [],
      "include_colab_link": true
    },
    "kernelspec": {
      "name": "python3",
      "display_name": "Python 3"
    },
    "language_info": {
      "name": "python"
    }
  },
  "cells": [
    {
      "cell_type": "markdown",
      "metadata": {
        "id": "view-in-github",
        "colab_type": "text"
      },
      "source": [
        "<a href=\"https://colab.research.google.com/github/NguyenThiHongLinh/ML2023/blob/main/Lab_5_20130306_NguyenThiHongLinh.ipynb\" target=\"_parent\"><img src=\"https://colab.research.google.com/assets/colab-badge.svg\" alt=\"Open In Colab\"/></a>"
      ]
    },
    {
      "cell_type": "markdown",
      "source": [
        "# This lab is to deal with **SVM** to classification tasks and compare its performance with other competitive algorithms. In general, **SVM** is one of the most popular and widely used supervised machine learning algorithms.\n",
        "\n",
        "*   **Deadline: 23:59, 17/03/2023**\n",
        "\n"
      ],
      "metadata": {
        "id": "LMzehe0sy5wr"
      }
    },
    {
      "cell_type": "markdown",
      "source": [
        "# Import libraries"
      ],
      "metadata": {
        "id": "H4nJmxp9zGX4"
      }
    },
    {
      "cell_type": "code",
      "execution_count": 1,
      "metadata": {
        "id": "DoVWQ8AEyc-C",
        "colab": {
          "base_uri": "https://localhost:8080/"
        },
        "outputId": "7ac3c339-3fb7-4453-8bad-ce2e6d0370c0"
      },
      "outputs": [
        {
          "output_type": "stream",
          "name": "stdout",
          "text": [
            "Mounted at /content/gdrive\n",
            "/content/gdrive/MyDrive/ML\n"
          ]
        }
      ],
      "source": [
        "from google.colab import drive\n",
        "drive.mount('/content/gdrive')\n",
        "%cd '/content/gdrive/MyDrive/ML'\n",
        "\n"
      ]
    },
    {
      "cell_type": "markdown",
      "source": [
        "#Task 1. \n",
        "For breast cancer dataset (https://tinyurl.com/3vme8hr3) which could be loaded from datasets in sklearn as follows:\n",
        "\n",
        "```\n",
        "#Import scikit-learn dataset library\n",
        "from sklearn import datasets\n",
        "\n",
        "#Load dataset\n",
        "cancer = datasets.load_breast_cancer()\n",
        "```\n",
        "\n",
        "*   1.1.\tApply SVM algorithm to above dataset using linear kernel.\n",
        "*   1.2.\tCompare the obtained results with other competitive algorithms (Logistic Regression, Decision Tree, kNN) based on metrics: accuracy, precision, recall, f1 measures.\n",
        "\n"
      ],
      "metadata": {
        "id": "kNv07ARGzOUm"
      }
    },
    {
      "cell_type": "code",
      "source": [
        "#1.1\n",
        "from sklearn import datasets\n",
        "cancer = datasets.load_breast_cancer()\n",
        "cancer\n",
        "x=cancer.data\n",
        "y=cancer.target\n",
        "x\n",
        "y\n"
      ],
      "metadata": {
        "id": "sOsg77IBzEyo",
        "colab": {
          "base_uri": "https://localhost:8080/"
        },
        "outputId": "048776db-eb0b-4a37-d626-e895345981fd"
      },
      "execution_count": 2,
      "outputs": [
        {
          "output_type": "execute_result",
          "data": {
            "text/plain": [
              "array([0, 0, 0, 0, 0, 0, 0, 0, 0, 0, 0, 0, 0, 0, 0, 0, 0, 0, 0, 1, 1, 1,\n",
              "       0, 0, 0, 0, 0, 0, 0, 0, 0, 0, 0, 0, 0, 0, 0, 1, 0, 0, 0, 0, 0, 0,\n",
              "       0, 0, 1, 0, 1, 1, 1, 1, 1, 0, 0, 1, 0, 0, 1, 1, 1, 1, 0, 1, 0, 0,\n",
              "       1, 1, 1, 1, 0, 1, 0, 0, 1, 0, 1, 0, 0, 1, 1, 1, 0, 0, 1, 0, 0, 0,\n",
              "       1, 1, 1, 0, 1, 1, 0, 0, 1, 1, 1, 0, 0, 1, 1, 1, 1, 0, 1, 1, 0, 1,\n",
              "       1, 1, 1, 1, 1, 1, 1, 0, 0, 0, 1, 0, 0, 1, 1, 1, 0, 0, 1, 0, 1, 0,\n",
              "       0, 1, 0, 0, 1, 1, 0, 1, 1, 0, 1, 1, 1, 1, 0, 1, 1, 1, 1, 1, 1, 1,\n",
              "       1, 1, 0, 1, 1, 1, 1, 0, 0, 1, 0, 1, 1, 0, 0, 1, 1, 0, 0, 1, 1, 1,\n",
              "       1, 0, 1, 1, 0, 0, 0, 1, 0, 1, 0, 1, 1, 1, 0, 1, 1, 0, 0, 1, 0, 0,\n",
              "       0, 0, 1, 0, 0, 0, 1, 0, 1, 0, 1, 1, 0, 1, 0, 0, 0, 0, 1, 1, 0, 0,\n",
              "       1, 1, 1, 0, 1, 1, 1, 1, 1, 0, 0, 1, 1, 0, 1, 1, 0, 0, 1, 0, 1, 1,\n",
              "       1, 1, 0, 1, 1, 1, 1, 1, 0, 1, 0, 0, 0, 0, 0, 0, 0, 0, 0, 0, 0, 0,\n",
              "       0, 0, 1, 1, 1, 1, 1, 1, 0, 1, 0, 1, 1, 0, 1, 1, 0, 1, 0, 0, 1, 1,\n",
              "       1, 1, 1, 1, 1, 1, 1, 1, 1, 1, 1, 0, 1, 1, 0, 1, 0, 1, 1, 1, 1, 1,\n",
              "       1, 1, 1, 1, 1, 1, 1, 1, 1, 0, 1, 1, 1, 0, 1, 0, 1, 1, 1, 1, 0, 0,\n",
              "       0, 1, 1, 1, 1, 0, 1, 0, 1, 0, 1, 1, 1, 0, 1, 1, 1, 1, 1, 1, 1, 0,\n",
              "       0, 0, 1, 1, 1, 1, 1, 1, 1, 1, 1, 1, 1, 0, 0, 1, 0, 0, 0, 1, 0, 0,\n",
              "       1, 1, 1, 1, 1, 0, 1, 1, 1, 1, 1, 0, 1, 1, 1, 0, 1, 1, 0, 0, 1, 1,\n",
              "       1, 1, 1, 1, 0, 1, 1, 1, 1, 1, 1, 1, 0, 1, 1, 1, 1, 1, 0, 1, 1, 0,\n",
              "       1, 1, 1, 1, 1, 1, 1, 1, 1, 1, 1, 1, 0, 1, 0, 0, 1, 0, 1, 1, 1, 1,\n",
              "       1, 0, 1, 1, 0, 1, 0, 1, 1, 0, 1, 0, 1, 1, 1, 1, 1, 1, 1, 1, 0, 0,\n",
              "       1, 1, 1, 1, 1, 1, 0, 1, 1, 1, 1, 1, 1, 1, 1, 1, 1, 0, 1, 1, 1, 1,\n",
              "       1, 1, 1, 0, 1, 0, 1, 1, 0, 1, 1, 1, 1, 1, 0, 0, 1, 0, 1, 0, 1, 1,\n",
              "       1, 1, 1, 0, 1, 1, 0, 1, 0, 1, 0, 0, 1, 1, 1, 0, 1, 1, 1, 1, 1, 1,\n",
              "       1, 1, 1, 1, 1, 0, 1, 0, 0, 1, 1, 1, 1, 1, 1, 1, 1, 1, 1, 1, 1, 1,\n",
              "       1, 1, 1, 1, 1, 1, 1, 1, 1, 1, 1, 1, 0, 0, 0, 0, 0, 0, 1])"
            ]
          },
          "metadata": {},
          "execution_count": 2
        }
      ]
    },
    {
      "cell_type": "code",
      "source": [
        "from sklearn import svm\n",
        "import numpy as np\n",
        "import pandas as pd\n",
        "from sklearn import metrics\n",
        "from sklearn.model_selection import train_test_split\n",
        "from sklearn.metrics import ConfusionMatrixDisplay\n",
        "from sklearn.linear_model import LogisticRegression\n",
        "from sklearn.metrics import confusion_matrix \n",
        "from sklearn.metrics import accuracy_score "
      ],
      "metadata": {
        "id": "E73j2RKvTHOW"
      },
      "execution_count": 3,
      "outputs": []
    },
    {
      "cell_type": "code",
      "source": [
        "x_train, x_test, y_train, y_test = train_test_split(x, y,test_size=0.3, random_state=4, stratify=y)\n",
        "x_test\n",
        "y_train\n",
        "y_test\n",
        "clf=svm.SVC(kernel=\"linear\")\n",
        "clf.fit(x_train,y_train)\n",
        "y_pred=clf.predict(x_test)\n",
        "print(metrics.classification_report(y_test,y_pred))\n",
        "ConfusionMatrixDisplay.from_predictions(y_test, y_pred)"
      ],
      "metadata": {
        "colab": {
          "base_uri": "https://localhost:8080/",
          "height": 461
        },
        "id": "axo4AzHLNuBH",
        "outputId": "5b218047-9e5e-4034-c481-855777b1411e"
      },
      "execution_count": 8,
      "outputs": [
        {
          "output_type": "stream",
          "name": "stdout",
          "text": [
            "              precision    recall  f1-score   support\n",
            "\n",
            "           0       0.97      0.91      0.94        64\n",
            "           1       0.95      0.98      0.96       107\n",
            "\n",
            "    accuracy                           0.95       171\n",
            "   macro avg       0.96      0.94      0.95       171\n",
            "weighted avg       0.95      0.95      0.95       171\n",
            "\n"
          ]
        },
        {
          "output_type": "execute_result",
          "data": {
            "text/plain": [
              "<sklearn.metrics._plot.confusion_matrix.ConfusionMatrixDisplay at 0x7f4e5e89f4c0>"
            ]
          },
          "metadata": {},
          "execution_count": 8
        },
        {
          "output_type": "display_data",
          "data": {
            "text/plain": [
              "<Figure size 432x288 with 2 Axes>"
            ],
            "image/png": "[encoded data removed]"
          },
          "metadata": {
            "needs_background": "light"
          }
        }
      ]
    },
    {
      "cell_type": "code",
      "source": [
        "#1.2\n",
        "classifier = LogisticRegression(random_state = 0) \n",
        "classifier.fit(x_train, y_train) "
      ],
      "metadata": {
        "colab": {
          "base_uri": "https://localhost:8080/",
          "height": 220
        },
        "id": "-TD2vTgqXCa9",
        "outputId": "776bc508-74cb-4486-be93-ea67f3229245"
      },
      "execution_count": 5,
      "outputs": [
        {
          "output_type": "stream",
          "name": "stderr",
          "text": [
            "/usr/local/lib/python3.9/dist-packages/sklearn/linear_model/_logistic.py:458: ConvergenceWarning: lbfgs failed to converge (status=1):\n",
            "STOP: TOTAL NO. of ITERATIONS REACHED LIMIT.\n",
            "\n",
            "Increase the number of iterations (max_iter) or scale the data as shown in:\n",
            "    https://scikit-learn.org/stable/modules/preprocessing.html\n",
            "Please also refer to the documentation for alternative solver options:\n",
            "    https://scikit-learn.org/stable/modules/linear_model.html#logistic-regression\n",
            "  n_iter_i = _check_optimize_result(\n"
          ]
        },
        {
          "output_type": "execute_result",
          "data": {
            "text/plain": [
              "LogisticRegression(random_state=0)"
            ],
            "text/html": [
              "<style>#sk-container-id-1 {color: black;background-color: white;}#sk-container-id-1 pre{padding: 0;}#sk-container-id-1 div.sk-toggleable {background-color: white;}#sk-container-id-1 label.sk-toggleable__label {cursor: pointer;display: block;width: 100%;margin-bottom: 0;padding: 0.3em;box-sizing: border-box;text-align: center;}#sk-container-id-1 label.sk-toggleable__label-arrow:before {content: \"▸\";float: left;margin-right: 0.25em;color: #696969;}#sk-container-id-1 label.sk-toggleable__label-arrow:hover:before {color: black;}#sk-container-id-1 div.sk-estimator:hover label.sk-toggleable__label-arrow:before {color: black;}#sk-container-id-1 div.sk-toggleable__content {max-height: 0;max-width: 0;overflow: hidden;text-align: left;background-color: #f0f8ff;}#sk-container-id-1 div.sk-toggleable__content pre {margin: 0.2em;color: black;border-radius: 0.25em;background-color: #f0f8ff;}#sk-container-id-1 input.sk-toggleable__control:checked~div.sk-toggleable__content {max-height: 200px;max-width: 100%;overflow: auto;}#sk-container-id-1 input.sk-toggleable__control:checked~label.sk-toggleable__label-arrow:before {content: \"▾\";}#sk-container-id-1 div.sk-estimator input.sk-toggleable__control:checked~label.sk-toggleable__label {background-color: #d4ebff;}#sk-container-id-1 div.sk-label input.sk-toggleable__control:checked~label.sk-toggleable__label {background-color: #d4ebff;}#sk-container-id-1 input.sk-hidden--visually {border: 0;clip: rect(1px 1px 1px 1px);clip: rect(1px, 1px, 1px, 1px);height: 1px;margin: -1px;overflow: hidden;padding: 0;position: absolute;width: 1px;}#sk-container-id-1 div.sk-estimator {font-family: monospace;background-color: #f0f8ff;border: 1px dotted black;border-radius: 0.25em;box-sizing: border-box;margin-bottom: 0.5em;}#sk-container-id-1 div.sk-estimator:hover {background-color: #d4ebff;}#sk-container-id-1 div.sk-parallel-item::after {content: \"\";width: 100%;border-bottom: 1px solid gray;flex-grow: 1;}#sk-container-id-1 div.sk-label:hover label.sk-toggleable__label {background-color: #d4ebff;}#sk-container-id-1 div.sk-serial::before {content: \"\";position: absolute;border-left: 1px solid gray;box-sizing: border-box;top: 0;bottom: 0;left: 50%;z-index: 0;}#sk-container-id-1 div.sk-serial {display: flex;flex-direction: column;align-items: center;background-color: white;padding-right: 0.2em;padding-left: 0.2em;position: relative;}#sk-container-id-1 div.sk-item {position: relative;z-index: 1;}#sk-container-id-1 div.sk-parallel {display: flex;align-items: stretch;justify-content: center;background-color: white;position: relative;}#sk-container-id-1 div.sk-item::before, #sk-container-id-1 div.sk-parallel-item::before {content: \"\";position: absolute;border-left: 1px solid gray;box-sizing: border-box;top: 0;bottom: 0;left: 50%;z-index: -1;}#sk-container-id-1 div.sk-parallel-item {display: flex;flex-direction: column;z-index: 1;position: relative;background-color: white;}#sk-container-id-1 div.sk-parallel-item:first-child::after {align-self: flex-end;width: 50%;}#sk-container-id-1 div.sk-parallel-item:last-child::after {align-self: flex-start;width: 50%;}#sk-container-id-1 div.sk-parallel-item:only-child::after {width: 0;}#sk-container-id-1 div.sk-dashed-wrapped {border: 1px dashed gray;margin: 0 0.4em 0.5em 0.4em;box-sizing: border-box;padding-bottom: 0.4em;background-color: white;}#sk-container-id-1 div.sk-label label {font-family: monospace;font-weight: bold;display: inline-block;line-height: 1.2em;}#sk-container-id-1 div.sk-label-container {text-align: center;}#sk-container-id-1 div.sk-container {/* jupyter's `normalize.less` sets `[hidden] { display: none; }` but bootstrap.min.css set `[hidden] { display: none !important; }` so we also need the `!important` here to be able to override the default hidden behavior on the sphinx rendered scikit-learn.org. See: https://github.com/scikit-learn/scikit-learn/issues/21755 */display: inline-block !important;position: relative;}#sk-container-id-1 div.sk-text-repr-fallback {display: none;}</style><div id=\"sk-container-id-1\" class=\"sk-top-container\"><div class=\"sk-text-repr-fallback\"><pre>LogisticRegression(random_state=0)</pre><b>In a Jupyter environment, please rerun this cell to show the HTML representation or trust the notebook. <br />On GitHub, the HTML representation is unable to render, please try loading this page with nbviewer.org.</b></div><div class=\"sk-container\" hidden><div class=\"sk-item\"><div class=\"sk-estimator sk-toggleable\"><input class=\"sk-toggleable__control sk-hidden--visually\" id=\"sk-estimator-id-1\" type=\"checkbox\" checked><label for=\"sk-estimator-id-1\" class=\"sk-toggleable__label sk-toggleable__label-arrow\">LogisticRegression</label><div class=\"sk-toggleable__content\"><pre>LogisticRegression(random_state=0)</pre></div></div></div></div></div>"
            ]
          },
          "metadata": {},
          "execution_count": 5
        }
      ]
    },
    {
      "cell_type": "code",
      "source": [
        "y_predict=classifier.predict(x_test)\n",
        "y_predict\n",
        "cm = confusion_matrix(y_test, y_predict) \n",
        "cm"
      ],
      "metadata": {
        "colab": {
          "base_uri": "https://localhost:8080/"
        },
        "id": "-F-w9oVIXRw9",
        "outputId": "9ad77bd2-65bc-43f5-f0fc-b18124f2ff76"
      },
      "execution_count": 6,
      "outputs": [
        {
          "output_type": "execute_result",
          "data": {
            "text/plain": [
              "array([[ 63,   7],\n",
              "       [  2, 116]])"
            ]
          },
          "metadata": {},
          "execution_count": 6
        }
      ]
    },
    {
      "cell_type": "code",
      "source": [
        "print (\"Accuracy : \", accuracy_score(y_test, y_predict))\n",
        "ConfusionMatrixDisplay.from_predictions(y_test, y_predict)"
      ],
      "metadata": {
        "colab": {
          "base_uri": "https://localhost:8080/",
          "height": 315
        },
        "id": "D-w9--p3YINE",
        "outputId": "8e1cbaca-f59f-4088-e7c6-8c4e16338069"
      },
      "execution_count": 7,
      "outputs": [
        {
          "output_type": "stream",
          "name": "stdout",
          "text": [
            "Accuracy :  0.9521276595744681\n"
          ]
        },
        {
          "output_type": "execute_result",
          "data": {
            "text/plain": [
              "<sklearn.metrics._plot.confusion_matrix.ConfusionMatrixDisplay at 0x7f4e6131d880>"
            ]
          },
          "metadata": {},
          "execution_count": 7
        },
        {
          "output_type": "display_data",
          "data": {
            "text/plain": [
              "<Figure size 432x288 with 2 Axes>"
            ],
            "image/png": "[encoded data removed]"
          },
          "metadata": {
            "needs_background": "light"
          }
        }
      ]
    },
    {
      "cell_type": "code",
      "source": [],
      "metadata": {
        "id": "NFxxnGSpPKyP"
      },
      "execution_count": null,
      "outputs": []
    },
    {
      "cell_type": "markdown",
      "source": [
        "#Task 2. \n",
        "\n",
        "*   1.1.\tPerform SVM algorithm to **Iris dataset** using **linear kernel**.\n",
        "*   1.2.\tCompare the obtained results in 1.1 with SVM using other kernels (**Polynomial Kernel, Gaussian Kernel, Sigmoid Kernel, Radial Basis Function Kernel**). Some metrics could be used: accuracy, precision, recall, f1 measures\n",
        "\n",
        "\n",
        "\n"
      ],
      "metadata": {
        "id": "S43IoUT-0OQq"
      }
    },
    {
      "cell_type": "code",
      "source": [
        "#2.1\n",
        "data1=datasets.load_iris()\n",
        "X=data1.data\n",
        "Y=data1.target\n",
        "X_train, X_test, Y_train, Y_test = train_test_split(X, Y,test_size=0.33, random_state=0)\n",
        "clf=svm.SVC(kernel=\"linear\")\n",
        "clf.fit(X_train,Y_train)\n",
        "Y_pred=clf.predict(X_test)\n",
        "print(metrics.classification_report(Y_test,Y_pred))\n",
        "ConfusionMatrixDisplay.from_predictions(Y_test, Y_pred)"
      ],
      "metadata": {
        "colab": {
          "base_uri": "https://localhost:8080/",
          "height": 483
        },
        "id": "N7BDp1-AVLR-",
        "outputId": "82767532-5ca2-4265-d03b-264aa81765b4"
      },
      "execution_count": 9,
      "outputs": [
        {
          "output_type": "stream",
          "name": "stdout",
          "text": [
            "              precision    recall  f1-score   support\n",
            "\n",
            "           0       1.00      1.00      1.00        16\n",
            "           1       1.00      0.95      0.97        19\n",
            "           2       0.94      1.00      0.97        15\n",
            "\n",
            "    accuracy                           0.98        50\n",
            "   macro avg       0.98      0.98      0.98        50\n",
            "weighted avg       0.98      0.98      0.98        50\n",
            "\n"
          ]
        },
        {
          "output_type": "execute_result",
          "data": {
            "text/plain": [
              "<sklearn.metrics._plot.confusion_matrix.ConfusionMatrixDisplay at 0x7f4e5e7d3af0>"
            ]
          },
          "metadata": {},
          "execution_count": 9
        },
        {
          "output_type": "display_data",
          "data": {
            "text/plain": [
              "<Figure size 432x288 with 2 Axes>"
            ],
            "image/png": "[encoded data removed]"
          },
          "metadata": {
            "needs_background": "light"
          }
        }
      ]
    },
    {
      "cell_type": "code",
      "source": [
        "#2.2\n",
        "clf2=svm.SVC(kernel=\"sigmoid\")\n",
        "clf2.fit(X_train,Y_train)\n",
        "Y_pred2=clf2.predict(X_test)\n",
        "print(metrics.classification_report(Y_test,Y_pred2))\n",
        "ConfusionMatrixDisplay.from_predictions(Y_test, Y_pred2)"
      ],
      "metadata": {
        "colab": {
          "base_uri": "https://localhost:8080/",
          "height": 608
        },
        "id": "O1X2aOD-f9iH",
        "outputId": "28d50464-382f-4b6a-87d4-d697ecf95cd1"
      },
      "execution_count": 10,
      "outputs": [
        {
          "output_type": "stream",
          "name": "stdout",
          "text": [
            "              precision    recall  f1-score   support\n",
            "\n",
            "           0       0.00      0.00      0.00        16\n",
            "           1       0.00      0.00      0.00        19\n",
            "           2       0.30      1.00      0.46        15\n",
            "\n",
            "    accuracy                           0.30        50\n",
            "   macro avg       0.10      0.33      0.15        50\n",
            "weighted avg       0.09      0.30      0.14        50\n",
            "\n"
          ]
        },
        {
          "output_type": "stream",
          "name": "stderr",
          "text": [
            "/usr/local/lib/python3.9/dist-packages/sklearn/metrics/_classification.py:1344: UndefinedMetricWarning: Precision and F-score are ill-defined and being set to 0.0 in labels with no predicted samples. Use `zero_division` parameter to control this behavior.\n",
            "  _warn_prf(average, modifier, msg_start, len(result))\n",
            "/usr/local/lib/python3.9/dist-packages/sklearn/metrics/_classification.py:1344: UndefinedMetricWarning: Precision and F-score are ill-defined and being set to 0.0 in labels with no predicted samples. Use `zero_division` parameter to control this behavior.\n",
            "  _warn_prf(average, modifier, msg_start, len(result))\n",
            "/usr/local/lib/python3.9/dist-packages/sklearn/metrics/_classification.py:1344: UndefinedMetricWarning: Precision and F-score are ill-defined and being set to 0.0 in labels with no predicted samples. Use `zero_division` parameter to control this behavior.\n",
            "  _warn_prf(average, modifier, msg_start, len(result))\n"
          ]
        },
        {
          "output_type": "execute_result",
          "data": {
            "text/plain": [
              "<sklearn.metrics._plot.confusion_matrix.ConfusionMatrixDisplay at 0x7f4e5e6a4f70>"
            ]
          },
          "metadata": {},
          "execution_count": 10
        },
        {
          "output_type": "display_data",
          "data": {
            "text/plain": [
              "<Figure size 432x288 with 2 Axes>"
            ],
            "image/png": "[encoded data removed]"
          },
          "metadata": {
            "needs_background": "light"
          }
        }
      ]
    },
    {
      "cell_type": "code",
      "source": [
        "clf3=svm.SVC(kernel=\"poly\")\n",
        "clf3.fit(X_train,Y_train)\n",
        "Y_pred3=clf3.predict(X_test)\n",
        "print(metrics.classification_report(Y_test,Y_pred3))\n",
        "ConfusionMatrixDisplay.from_predictions(Y_test, Y_pred3)"
      ],
      "metadata": {
        "colab": {
          "base_uri": "https://localhost:8080/",
          "height": 483
        },
        "id": "oUyJc0xkga-Z",
        "outputId": "481ab19c-8b35-4f79-f34b-21907fde3765"
      },
      "execution_count": 11,
      "outputs": [
        {
          "output_type": "stream",
          "name": "stdout",
          "text": [
            "              precision    recall  f1-score   support\n",
            "\n",
            "           0       1.00      1.00      1.00        16\n",
            "           1       1.00      0.95      0.97        19\n",
            "           2       0.94      1.00      0.97        15\n",
            "\n",
            "    accuracy                           0.98        50\n",
            "   macro avg       0.98      0.98      0.98        50\n",
            "weighted avg       0.98      0.98      0.98        50\n",
            "\n"
          ]
        },
        {
          "output_type": "execute_result",
          "data": {
            "text/plain": [
              "<sklearn.metrics._plot.confusion_matrix.ConfusionMatrixDisplay at 0x7f4e5e6a4ee0>"
            ]
          },
          "metadata": {},
          "execution_count": 11
        },
        {
          "output_type": "display_data",
          "data": {
            "text/plain": [
              "<Figure size 432x288 with 2 Axes>"
            ],
            "image/png": "[encoded data removed]"
          },
          "metadata": {
            "needs_background": "light"
          }
        }
      ]
    },
    {
      "cell_type": "markdown",
      "source": [
        "#Task 3. \n",
        "Compare the performance of selected classification algorithms (Decision Tree, kNN, Logistic Regression) and SVM (using different kernels) with mnist dataset based on accuracy, precision, recall, f1 measures.\n"
      ],
      "metadata": {
        "id": "b52OPWPD2afi"
      }
    },
    {
      "cell_type": "code",
      "source": [
        "mnist=datasets.load_digits()\n",
        "X1=mnist.data\n",
        "Y1=mnist.target\n",
        "X1\n",
        "Y1\n",
        "X1_train,X1_test,Y1_train,Y1_test=train_test_split(X1, Y1,test_size=0.33, random_state=2)\n",
        "classifier = LogisticRegression(random_state = 4) \n",
        "classifier.fit(X1_train, Y1_train) \n",
        "Y1_predict=classifier.predict(X1_test)\n",
        "Y1_predict\n",
        "CM = confusion_matrix(Y1_test, Y1_predict) \n",
        "CM\n",
        "print (\"Accuracy : \", accuracy_score(Y1_test, Y1_predict))\n",
        "ConfusionMatrixDisplay.from_predictions(Y1_test, Y1_predict)"
      ],
      "metadata": {
        "id": "ZwIfjY7_bj4k",
        "colab": {
          "base_uri": "https://localhost:8080/",
          "height": 461
        },
        "outputId": "01218aed-5747-4e66-8693-2c4ad1f52036"
      },
      "execution_count": 12,
      "outputs": [
        {
          "output_type": "stream",
          "name": "stderr",
          "text": [
            "/usr/local/lib/python3.9/dist-packages/sklearn/linear_model/_logistic.py:458: ConvergenceWarning: lbfgs failed to converge (status=1):\n",
            "STOP: TOTAL NO. of ITERATIONS REACHED LIMIT.\n",
            "\n",
            "Increase the number of iterations (max_iter) or scale the data as shown in:\n",
            "    https://scikit-learn.org/stable/modules/preprocessing.html\n",
            "Please also refer to the documentation for alternative solver options:\n",
            "    https://scikit-learn.org/stable/modules/linear_model.html#logistic-regression\n",
            "  n_iter_i = _check_optimize_result(\n"
          ]
        },
        {
          "output_type": "stream",
          "name": "stdout",
          "text": [
            "Accuracy :  0.9478114478114478\n"
          ]
        },
        {
          "output_type": "execute_result",
          "data": {
            "text/plain": [
              "<sklearn.metrics._plot.confusion_matrix.ConfusionMatrixDisplay at 0x7f4e6131deb0>"
            ]
          },
          "metadata": {},
          "execution_count": 12
        },
        {
          "output_type": "display_data",
          "data": {
            "text/plain": [
              "<Figure size 432x288 with 2 Axes>"
            ],
            "image/png": "[encoded data removed]"
          },
          "metadata": {
            "needs_background": "light"
          }
        }
      ]
    },
    {
      "cell_type": "code",
      "source": [
        "clfs=svm.SVC(kernel=\"poly\")\n",
        "clfs.fit(X1_train,Y1_train)\n",
        "Y_pre=clfs.predict(X1_test)\n",
        "print(metrics.classification_report(Y1_test,Y_pre))\n",
        "ConfusionMatrixDisplay.from_predictions(Y1_test, Y_pre)"
      ],
      "metadata": {
        "colab": {
          "base_uri": "https://localhost:8080/",
          "height": 606
        },
        "id": "_gd82vUZhcOH",
        "outputId": "4f4b9a13-0ab5-4cb5-dd93-df3c062ac9d9"
      },
      "execution_count": 13,
      "outputs": [
        {
          "output_type": "stream",
          "name": "stdout",
          "text": [
            "              precision    recall  f1-score   support\n",
            "\n",
            "           0       1.00      0.98      0.99        61\n",
            "           1       0.95      1.00      0.98        61\n",
            "           2       1.00      1.00      1.00        55\n",
            "           3       1.00      0.96      0.98        68\n",
            "           4       0.98      0.95      0.97        59\n",
            "           5       0.97      0.97      0.97        63\n",
            "           6       0.99      1.00      0.99        67\n",
            "           7       1.00      1.00      1.00        57\n",
            "           8       0.89      0.92      0.91        52\n",
            "           9       0.94      0.94      0.94        51\n",
            "\n",
            "    accuracy                           0.97       594\n",
            "   macro avg       0.97      0.97      0.97       594\n",
            "weighted avg       0.97      0.97      0.97       594\n",
            "\n"
          ]
        },
        {
          "output_type": "execute_result",
          "data": {
            "text/plain": [
              "<sklearn.metrics._plot.confusion_matrix.ConfusionMatrixDisplay at 0x7f4e5e47fb50>"
            ]
          },
          "metadata": {},
          "execution_count": 13
        },
        {
          "output_type": "display_data",
          "data": {
            "text/plain": [
              "<Figure size 432x288 with 2 Axes>"
            ],
            "image/png": "[encoded data removed]"
          },
          "metadata": {
            "needs_background": "light"
          }
        }
      ]
    },
    {
      "cell_type": "markdown",
      "source": [
        "#Task 4. \n",
        "Compare the performance of selected classification algorithms (Decision Tree, kNN, Logistic Regression) and SVM (using different kernels) with **credit card dataset** based on accuracy, precision, recall, f1 measures.\n",
        "\n",
        "*   Give some comments on the obtained results\n",
        "*   Identify issues with dataset, and propose the solutions to these issues\n",
        "\n"
      ],
      "metadata": {
        "id": "Z5pp7_h-aP2u"
      }
    },
    {
      "cell_type": "code",
      "source": [
        "dt=pd.read_csv(\"creditcard.csv\")\n",
        "dt\n",
        "test= pd.DataFrame(dt, columns=['V18','V19','V20','V21','V22','V23'])\n",
        "#test.describe()\n",
        "df=test.sample(20)\n",
        "df"
      ],
      "metadata": {
        "id": "Rw_-8FIf2KxW",
        "colab": {
          "base_uri": "https://localhost:8080/",
          "height": 676
        },
        "outputId": "35e369dd-e19e-444c-c0a4-ff22ba1c7778"
      },
      "execution_count": 14,
      "outputs": [
        {
          "output_type": "execute_result",
          "data": {
            "text/plain": [
              "             V18       V19       V20       V21       V22       V23\n",
              "279323  0.755671 -0.517909  0.072609  0.051583  0.451898 -0.278956\n",
              "239433  0.573261 -0.431292 -0.249452  0.188213  0.692496 -0.010711\n",
              "162963  0.937532  0.385610 -0.226913  0.174378  0.660888  0.112385\n",
              "161017  0.021703  0.083790 -0.426224  1.554027 -0.233473  0.384441\n",
              "271191  0.660687  0.118562 -0.218558  0.211005  0.490891 -0.030496\n",
              "254601  1.986493 -0.079807  0.440009  0.123863 -0.206228 -0.375536\n",
              "283934  0.944047  0.142422 -0.062363  2.968731  0.389724  0.716219\n",
              "250437 -0.693649 -0.277605 -0.206915  0.044688  0.222919  0.026728\n",
              "191588 -0.674157 -0.583354  1.880262 -4.018210  0.670335  0.745879\n",
              "277482 -0.618199 -0.193526 -0.325967  0.038743  0.351324 -0.001787\n",
              "55688  -0.669605 -0.539686  0.378185 -0.212679 -0.431485  0.137089\n",
              "35370  -1.316759 -1.215884  0.751729  0.244818  0.204510  0.330098\n",
              "100598 -0.753498  1.233304  0.248683 -0.085182 -0.237675 -0.246494\n",
              "262764 -0.179023  0.360077  0.042530  0.051994  0.630919 -0.066867\n",
              "142479 -0.619874 -0.446542  0.083730 -0.215953 -0.558469  0.040036\n",
              "196026 -0.072784  0.268116  0.078768 -0.260560 -0.614339  0.136765\n",
              "272619  0.330241 -0.029426 -0.203055 -0.172139 -0.753889  0.289899\n",
              "211210  1.699223 -0.274677 -0.897154 -0.514841 -0.976693  0.408391\n",
              "268733  0.102901  0.828442  0.281478  0.298506  1.033645 -0.394440\n",
              "152258  0.409119  0.475630 -0.241534 -0.033346  0.441678 -0.014600"
            ],
            "text/html": [
              "\n",
              "  <div id=\"df-62537bf4-eef0-456e-87e5-6af288cb5b70\">\n",
              "    <div class=\"colab-df-container\">\n",
              "      <div>\n",
              "<style scoped>\n",
              "    .dataframe tbody tr th:only-of-type {\n",
              "        vertical-align: middle;\n",
              "    }\n",
              "\n",
              "    .dataframe tbody tr th {\n",
              "        vertical-align: top;\n",
              "    }\n",
              "\n",
              "    .dataframe thead th {\n",
              "        text-align: right;\n",
              "    }\n",
              "</style>\n",
              "<table border=\"1\" class=\"dataframe\">\n",
              "  <thead>\n",
              "    <tr style=\"text-align: right;\">\n",
              "      <th></th>\n",
              "      <th>V18</th>\n",
              "      <th>V19</th>\n",
              "      <th>V20</th>\n",
              "      <th>V21</th>\n",
              "      <th>V22</th>\n",
              "      <th>V23</th>\n",
              "    </tr>\n",
              "  </thead>\n",
              "  <tbody>\n",
              "    <tr>\n",
              "      <th>279323</th>\n",
              "      <td>0.755671</td>\n",
              "      <td>-0.517909</td>\n",
              "      <td>0.072609</td>\n",
              "      <td>0.051583</td>\n",
              "      <td>0.451898</td>\n",
              "      <td>-0.278956</td>\n",
              "    </tr>\n",
              "    <tr>\n",
              "      <th>239433</th>\n",
              "      <td>0.573261</td>\n",
              "      <td>-0.431292</td>\n",
              "      <td>-0.249452</td>\n",
              "      <td>0.188213</td>\n",
              "      <td>0.692496</td>\n",
              "      <td>-0.010711</td>\n",
              "    </tr>\n",
              "    <tr>\n",
              "      <th>162963</th>\n",
              "      <td>0.937532</td>\n",
              "      <td>0.385610</td>\n",
              "      <td>-0.226913</td>\n",
              "      <td>0.174378</td>\n",
              "      <td>0.660888</td>\n",
              "      <td>0.112385</td>\n",
              "    </tr>\n",
              "    <tr>\n",
              "      <th>161017</th>\n",
              "      <td>0.021703</td>\n",
              "      <td>0.083790</td>\n",
              "      <td>-0.426224</td>\n",
              "      <td>1.554027</td>\n",
              "      <td>-0.233473</td>\n",
              "      <td>0.384441</td>\n",
              "    </tr>\n",
              "    <tr>\n",
              "      <th>271191</th>\n",
              "      <td>0.660687</td>\n",
              "      <td>0.118562</td>\n",
              "      <td>-0.218558</td>\n",
              "      <td>0.211005</td>\n",
              "      <td>0.490891</td>\n",
              "      <td>-0.030496</td>\n",
              "    </tr>\n",
              "    <tr>\n",
              "      <th>254601</th>\n",
              "      <td>1.986493</td>\n",
              "      <td>-0.079807</td>\n",
              "      <td>0.440009</td>\n",
              "      <td>0.123863</td>\n",
              "      <td>-0.206228</td>\n",
              "      <td>-0.375536</td>\n",
              "    </tr>\n",
              "    <tr>\n",
              "      <th>283934</th>\n",
              "      <td>0.944047</td>\n",
              "      <td>0.142422</td>\n",
              "      <td>-0.062363</td>\n",
              "      <td>2.968731</td>\n",
              "      <td>0.389724</td>\n",
              "      <td>0.716219</td>\n",
              "    </tr>\n",
              "    <tr>\n",
              "      <th>250437</th>\n",
              "      <td>-0.693649</td>\n",
              "      <td>-0.277605</td>\n",
              "      <td>-0.206915</td>\n",
              "      <td>0.044688</td>\n",
              "      <td>0.222919</td>\n",
              "      <td>0.026728</td>\n",
              "    </tr>\n",
              "    <tr>\n",
              "      <th>191588</th>\n",
              "      <td>-0.674157</td>\n",
              "      <td>-0.583354</td>\n",
              "      <td>1.880262</td>\n",
              "      <td>-4.018210</td>\n",
              "      <td>0.670335</td>\n",
              "      <td>0.745879</td>\n",
              "    </tr>\n",
              "    <tr>\n",
              "      <th>277482</th>\n",
              "      <td>-0.618199</td>\n",
              "      <td>-0.193526</td>\n",
              "      <td>-0.325967</td>\n",
              "      <td>0.038743</td>\n",
              "      <td>0.351324</td>\n",
              "      <td>-0.001787</td>\n",
              "    </tr>\n",
              "    <tr>\n",
              "      <th>55688</th>\n",
              "      <td>-0.669605</td>\n",
              "      <td>-0.539686</td>\n",
              "      <td>0.378185</td>\n",
              "      <td>-0.212679</td>\n",
              "      <td>-0.431485</td>\n",
              "      <td>0.137089</td>\n",
              "    </tr>\n",
              "    <tr>\n",
              "      <th>35370</th>\n",
              "      <td>-1.316759</td>\n",
              "      <td>-1.215884</td>\n",
              "      <td>0.751729</td>\n",
              "      <td>0.244818</td>\n",
              "      <td>0.204510</td>\n",
              "      <td>0.330098</td>\n",
              "    </tr>\n",
              "    <tr>\n",
              "      <th>100598</th>\n",
              "      <td>-0.753498</td>\n",
              "      <td>1.233304</td>\n",
              "      <td>0.248683</td>\n",
              "      <td>-0.085182</td>\n",
              "      <td>-0.237675</td>\n",
              "      <td>-0.246494</td>\n",
              "    </tr>\n",
              "    <tr>\n",
              "      <th>262764</th>\n",
              "      <td>-0.179023</td>\n",
              "      <td>0.360077</td>\n",
              "      <td>0.042530</td>\n",
              "      <td>0.051994</td>\n",
              "      <td>0.630919</td>\n",
              "      <td>-0.066867</td>\n",
              "    </tr>\n",
              "    <tr>\n",
              "      <th>142479</th>\n",
              "      <td>-0.619874</td>\n",
              "      <td>-0.446542</td>\n",
              "      <td>0.083730</td>\n",
              "      <td>-0.215953</td>\n",
              "      <td>-0.558469</td>\n",
              "      <td>0.040036</td>\n",
              "    </tr>\n",
              "    <tr>\n",
              "      <th>196026</th>\n",
              "      <td>-0.072784</td>\n",
              "      <td>0.268116</td>\n",
              "      <td>0.078768</td>\n",
              "      <td>-0.260560</td>\n",
              "      <td>-0.614339</td>\n",
              "      <td>0.136765</td>\n",
              "    </tr>\n",
              "    <tr>\n",
              "      <th>272619</th>\n",
              "      <td>0.330241</td>\n",
              "      <td>-0.029426</td>\n",
              "      <td>-0.203055</td>\n",
              "      <td>-0.172139</td>\n",
              "      <td>-0.753889</td>\n",
              "      <td>0.289899</td>\n",
              "    </tr>\n",
              "    <tr>\n",
              "      <th>211210</th>\n",
              "      <td>1.699223</td>\n",
              "      <td>-0.274677</td>\n",
              "      <td>-0.897154</td>\n",
              "      <td>-0.514841</td>\n",
              "      <td>-0.976693</td>\n",
              "      <td>0.408391</td>\n",
              "    </tr>\n",
              "    <tr>\n",
              "      <th>268733</th>\n",
              "      <td>0.102901</td>\n",
              "      <td>0.828442</td>\n",
              "      <td>0.281478</td>\n",
              "      <td>0.298506</td>\n",
              "      <td>1.033645</td>\n",
              "      <td>-0.394440</td>\n",
              "    </tr>\n",
              "    <tr>\n",
              "      <th>152258</th>\n",
              "      <td>0.409119</td>\n",
              "      <td>0.475630</td>\n",
              "      <td>-0.241534</td>\n",
              "      <td>-0.033346</td>\n",
              "      <td>0.441678</td>\n",
              "      <td>-0.014600</td>\n",
              "    </tr>\n",
              "  </tbody>\n",
              "</table>\n",
              "</div>\n",
              "      <button class=\"colab-df-convert\" onclick=\"convertToInteractive('df-62537bf4-eef0-456e-87e5-6af288cb5b70')\"\n",
              "              title=\"Convert this dataframe to an interactive table.\"\n",
              "              style=\"display:none;\">\n",
              "        \n",
              "  <svg xmlns=\"http://www.w3.org/2000/svg\" height=\"24px\"viewBox=\"0 0 24 24\"\n",
              "       width=\"24px\">\n",
              "    <path d=\"M0 0h24v24H0V0z\" fill=\"none\"/>\n",
              "    <path d=\"M18.56 5.44l.94 2.06.94-2.06 2.06-.94-2.06-.94-.94-2.06-.94 2.06-2.06.94zm-11 1L8.5 8.5l.94-2.06 2.06-.94-2.06-.94L8.5 2.5l-.94 2.06-2.06.94zm10 10l.94 2.06.94-2.06 2.06-.94-2.06-.94-.94-2.06-.94 2.06-2.06.94z\"/><path d=\"M17.41 7.96l-1.37-1.37c-.4-.4-.92-.59-1.43-.59-.52 0-1.04.2-1.43.59L10.3 9.45l-7.72 7.72c-.78.78-.78 2.05 0 2.83L4 21.41c.39.39.9.59 1.41.59.51 0 1.02-.2 1.41-.59l7.78-7.78 2.81-2.81c.8-.78.8-2.07 0-2.86zM5.41 20L4 18.59l7.72-7.72 1.47 1.35L5.41 20z\"/>\n",
              "  </svg>\n",
              "      </button>\n",
              "      \n",
              "  <style>\n",
              "    .colab-df-container {\n",
              "      display:flex;\n",
              "      flex-wrap:wrap;\n",
              "      gap: 12px;\n",
              "    }\n",
              "\n",
              "    .colab-df-convert {\n",
              "      background-color: #E8F0FE;\n",
              "      border: none;\n",
              "      border-radius: 50%;\n",
              "      cursor: pointer;\n",
              "      display: none;\n",
              "      fill: #1967D2;\n",
              "      height: 32px;\n",
              "      padding: 0 0 0 0;\n",
              "      width: 32px;\n",
              "    }\n",
              "\n",
              "    .colab-df-convert:hover {\n",
              "      background-color: #E2EBFA;\n",
              "      box-shadow: 0px 1px 2px rgba(60, 64, 67, 0.3), 0px 1px 3px 1px rgba(60, 64, 67, 0.15);\n",
              "      fill: #174EA6;\n",
              "    }\n",
              "\n",
              "    [theme=dark] .colab-df-convert {\n",
              "      background-color: #3B4455;\n",
              "      fill: #D2E3FC;\n",
              "    }\n",
              "\n",
              "    [theme=dark] .colab-df-convert:hover {\n",
              "      background-color: #434B5C;\n",
              "      box-shadow: 0px 1px 3px 1px rgba(0, 0, 0, 0.15);\n",
              "      filter: drop-shadow(0px 1px 2px rgba(0, 0, 0, 0.3));\n",
              "      fill: #FFFFFF;\n",
              "    }\n",
              "  </style>\n",
              "\n",
              "      <script>\n",
              "        const buttonEl =\n",
              "          document.querySelector('#df-62537bf4-eef0-456e-87e5-6af288cb5b70 button.colab-df-convert');\n",
              "        buttonEl.style.display =\n",
              "          google.colab.kernel.accessAllowed ? 'block' : 'none';\n",
              "\n",
              "        async function convertToInteractive(key) {\n",
              "          const element = document.querySelector('#df-62537bf4-eef0-456e-87e5-6af288cb5b70');\n",
              "          const dataTable =\n",
              "            await google.colab.kernel.invokeFunction('convertToInteractive',\n",
              "                                                     [key], {});\n",
              "          if (!dataTable) return;\n",
              "\n",
              "          const docLinkHtml = 'Like what you see? Visit the ' +\n",
              "            '<a target=\"_blank\" href=https://colab.research.google.com/notebooks/data_table.ipynb>data table notebook</a>'\n",
              "            + ' to learn more about interactive tables.';\n",
              "          element.innerHTML = '';\n",
              "          dataTable['output_type'] = 'display_data';\n",
              "          await google.colab.output.renderOutput(dataTable, element);\n",
              "          const docLink = document.createElement('div');\n",
              "          docLink.innerHTML = docLinkHtml;\n",
              "          element.appendChild(docLink);\n",
              "        }\n",
              "      </script>\n",
              "    </div>\n",
              "  </div>\n",
              "  "
            ]
          },
          "metadata": {},
          "execution_count": 14
        }
      ]
    },
    {
      "cell_type": "markdown",
      "source": [
        "#Finally,\n",
        "Save a copy in your Github. Remember renaming the notebook."
      ],
      "metadata": {
        "id": "Ok7RGkea_b7n"
      }
    }
  ]
}